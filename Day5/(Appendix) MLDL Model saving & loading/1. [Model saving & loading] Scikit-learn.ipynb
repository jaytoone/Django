{
  "cells": [
    {
      "cell_type": "markdown",
      "source": [
        "#### 1. Scikit-learn modeling (5-steps)"
      ],
      "metadata": {}
    },
    {
      "cell_type": "code",
      "source": [
        "from sklearn import datasets, model_selection, metrics, svm\n",
        "\n",
        "iris = datasets.load_iris()\n",
        "train_x, test_x, train_y, test_y = model_selection.train_test_split(iris.data, iris.target, test_size=0.3, random_state=0)\n",
        "\n",
        "model = svm.SVC(C=1.0, gamma='auto')\n",
        "model.fit(train_x, train_y)\n",
        "\n",
        "predicted_y = model.predict(test_x)\n",
        "print(metrics.accuracy_score(predicted_y, test_y))"
      ],
      "outputs": [
        {
          "output_type": "stream",
          "name": "stdout",
          "text": [
            "0.9777777777777777\n"
          ]
        }
      ],
      "execution_count": 18,
      "metadata": {}
    },
    {
      "cell_type": "markdown",
      "source": [
        "#### 2. Saving the trained model "
      ],
      "metadata": {}
    },
    {
      "cell_type": "code",
      "source": [
        "from sklearn.externals import joblib\n",
        "\n",
        "joblib.dump(model, 'model_iris_svm_v1.pkl', compress=True)"
      ],
      "outputs": [
        {
          "output_type": "execute_result",
          "execution_count": 6,
          "data": {
            "text/plain": [
              "['model_iris_svm_v1.pkl']"
            ]
          },
          "metadata": {}
        }
      ],
      "execution_count": 6,
      "metadata": {}
    },
    {
      "cell_type": "markdown",
      "source": [
        "#### 3. Loading the trained model "
      ],
      "metadata": {}
    },
    {
      "cell_type": "code",
      "source": [
        "from sklearn.externals import joblib\n",
        "\n",
        "model_loaded = joblib.load('model_iris_svm_v1.pkl')\n",
        "\n",
        "print(metrics.accuracy_score(model_loaded.predict(test_x), test_y))"
      ],
      "outputs": [
        {
          "output_type": "stream",
          "name": "stdout",
          "text": [
            "0.9777777777777777\n"
          ]
        }
      ],
      "execution_count": 19,
      "metadata": {}
    }
  ],
  "metadata": {
    "kernelspec": {
      "name": "python3",
      "language": "python",
      "display_name": "Python 3"
    },
    "language_info": {
      "name": "python",
      "version": "3.7.3",
      "mimetype": "text/x-python",
      "codemirror_mode": {
        "name": "ipython",
        "version": 3
      },
      "pygments_lexer": "ipython3",
      "nbconvert_exporter": "python",
      "file_extension": ".py"
    },
    "kernel_info": {
      "name": "python3"
    },
    "nteract": {
      "version": "0.15.0"
    }
  },
  "nbformat": 4,
  "nbformat_minor": 2
}