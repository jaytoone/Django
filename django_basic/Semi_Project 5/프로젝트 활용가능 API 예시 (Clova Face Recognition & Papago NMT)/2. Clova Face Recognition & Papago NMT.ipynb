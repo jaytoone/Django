{
 "cells": [
  {
   "cell_type": "markdown",
   "metadata": {},
   "source": [
    "###### <br><br>\n",
    "\n",
    "## 1. 네이버 개발자 센터 등록\n",
    "\n",
    "- 네이버 개발자 센터 등록 진행 (네이버 계정 활용) @ https://developers.naver.com/main/ "
   ]
  },
  {
   "cell_type": "code",
   "execution_count": 2,
   "metadata": {},
   "outputs": [],
   "source": [
    "!pip install requests==2.21.0"
   ]
  },
  {
   "cell_type": "markdown",
   "metadata": {},
   "source": [
    "<br><br>\n",
    "\n",
    "## 2. 네이버 얼굴 이미지 인식 API (Clova Face Recognition API)\n",
    "@ https://developers.naver.com/products/clova/face/\n",
    "\n",
    "- 이미지 데이터에서 얼굴 인식 결과를 알려준다. (얼굴 자체에 대한 정보 추출 or 닮은 꼴 연예인 찾기)\n",
    "- 제한 사항 : 무료 최대 사진크기 2MB & 무료 일일 처리 건수 1000건"
   ]
  },
  {
   "cell_type": "markdown",
   "metadata": {},
   "source": [
    "**구현 예제 코드 @ https://developers.naver.com/docs/clova/api/CFR/API_Guide.md** #Python"
   ]
  },
  {
   "cell_type": "code",
   "execution_count": 8,
   "metadata": {},
   "outputs": [
    {
     "name": "stdout",
     "output_type": "stream",
     "text": [
      "전체 응답코드 : \n",
      " {\"info\":{\"size\":{\"width\":1159,\"height\":771},\"faceCount\":4},\"faces\":[{\"roi\":{\"x\":251,\"y\":214,\"width\":123,\"height\":123},\"landmark\":{\"leftEye\":{\"x\":283,\"y\":240},\"rightEye\":{\"x\":344,\"y\":247},\"nose\":{\"x\":308,\"y\":277},\"leftMouth\":{\"x\":283,\"y\":298},\"rightMouth\":{\"x\":341,\"y\":302}},\"gender\":{\"value\":\"female\",\"confidence\":0.999407},\"age\":{\"value\":\"6~10\",\"confidence\":1.0},\"emotion\":{\"value\":\"laugh\",\"confidence\":0.99989},\"pose\":{\"value\":\"frontal_face\",\"confidence\":0.99931}},{\"roi\":{\"x\":630,\"y\":206,\"width\":145,\"height\":145},\"landmark\":{\"leftEye\":{\"x\":660,\"y\":241},\"rightEye\":{\"x\":735,\"y\":240},\"nose\":{\"x\":692,\"y\":283},\"leftMouth\":{\"x\":654,\"y\":313},\"rightMouth\":{\"x\":744,\"y\":309}},\"gender\":{\"value\":\"female\",\"confidence\":1.0},\"age\":{\"value\":\"49~53\",\"confidence\":0.472536},\"emotion\":{\"value\":\"laugh\",\"confidence\":0.999994},\"pose\":{\"value\":\"frontal_face\",\"confidence\":0.999121}},{\"roi\":{\"x\":886,\"y\":295,\"width\":129,\"height\":129},\"landmark\":{\"leftEye\":{\"x\":919,\"y\":319},\"rightEye\":{\"x\":983,\"y\":331},\"nose\":{\"x\":946,\"y\":355},\"leftMouth\":{\"x\":910,\"y\":382},\"rightMouth\":{\"x\":974,\"y\":390}},\"gender\":{\"value\":\"child\",\"confidence\":0.953482},\"age\":{\"value\":\"5~9\",\"confidence\":1.0},\"emotion\":{\"value\":\"smile\",\"confidence\":0.799734},\"pose\":{\"value\":\"frontal_face\",\"confidence\":0.993181}},{\"roi\":{\"x\":440,\"y\":217,\"width\":178,\"height\":178},\"landmark\":{\"leftEye\":{\"x\":496,\"y\":250},\"rightEye\":{\"x\":569,\"y\":263},\"nose\":{\"x\":524,\"y\":299},\"leftMouth\":{\"x\":476,\"y\":324},\"rightMouth\":{\"x\":556,\"y\":345}},\"gender\":{\"value\":\"male\",\"confidence\":0.999999},\"age\":{\"value\":\"35~39\",\"confidence\":0.589374},\"emotion\":{\"value\":\"laugh\",\"confidence\":0.999996},\"pose\":{\"value\":\"frontal_face\",\"confidence\":0.975193}}]}\n",
      "\n",
      "감지된 얼굴 수는 4입니다.\n"
     ]
    }
   ],
   "source": [
    "import os\n",
    "import sys\n",
    "import requests\n",
    "import json\n",
    "\n",
    "client_id = \"UiSouTBQhNkPNy5PhXRu\" # \"YOUR_CLIENT_ID\"\n",
    "client_secret = \"7jXIdTIaNM\" # \"YOUR_CLIENT_SECRET\"\n",
    "\n",
    "files = {'image': open('picture_family.jpg', 'rb')}\n",
    "\n",
    "url = \"https://openapi.naver.com/v1/vision/face\" # 얼굴감지\n",
    "# url = \"https://openapi.naver.com/v1/vision/celebrity\" # 유명인 얼굴인식\n",
    "headers = {'X-Naver-Client-Id': client_id, 'X-Naver-Client-Secret': client_secret }\n",
    "response = requests.post(url,  files=files, headers=headers)\n",
    "rescode = response.status_code\n",
    "\n",
    "if(rescode==200):\n",
    "    print(\"전체 응답코드 : \\n {}\".format(response.text) + '\\n')\n",
    "    \n",
    "    data = json.loads(response.text)\n",
    "    faceCount = data['info']['faceCount']\n",
    "    print(\"감지된 얼굴 수는 {}입니다.\".format(faceCount))\n",
    "\n",
    "else:\n",
    "    print(\"Error Code:\", rescode)"
   ]
  },
  {
   "cell_type": "markdown",
   "metadata": {},
   "source": [
    "- Response data의 구성 정보 상세 설명 @ https://developers.naver.com/docs/clova/api/CFR/API_Guide.md#응답-2\n",
    "- Response type == JSON (~= dict) \n",
    "\n",
    "JSON형식 문자열은 json모듈의 loads함수를 통해 변환할 수 있습니다. 모듈을 참조하고 이를 간단히 활용하도록 코드를 작성해봅시다."
   ]
  },
  {
   "cell_type": "markdown",
   "metadata": {},
   "source": [
    "<br><br>\n",
    "## 3. 네이버 파파고 API (PaPaGo API)\n",
    "\n",
    "- NMT(Neural Machine Translation) : 인공신경망 기반 기계 번역 @ https://developers.naver.com/products/nmt/\n",
    "- SMT(Statistical Machine Translation) : 통계 기반 기계 번역 @ https://developers.naver.com/products/translator/\n",
    "\n",
    "<br>\n",
    "- 상세 기능 및 제약사항 확인 (공식문서) @ https://developers.naver.com/docs/papago/papago-nmt-api-reference.md#파라미터\n",
    "<br>- 제한 사항 : 일일 1000글자 (https://developers.naver.com/products/nmt/)"
   ]
  },
  {
   "cell_type": "markdown",
   "metadata": {},
   "source": [
    "**구현 예제 코드 @ https://developers.naver.com/docs/papago/papago-nmt-example-code.md** #Python"
   ]
  },
  {
   "cell_type": "code",
   "execution_count": 6,
   "metadata": {},
   "outputs": [
    {
     "name": "stdout",
     "output_type": "stream",
     "text": [
      "{\"message\":{\"@type\":\"response\",\"@service\":\"naverservice.nmt.proxy\",\"@version\":\"1.0.0\",\"result\":{\"srcLangType\":\"ko\",\"tarLangType\":\"en\",\"translatedText\":\"Hi, Papago! Please translate this sentence.\"}}}\n"
     ]
    }
   ],
   "source": [
    "import os\n",
    "import sys\n",
    "import urllib.request\n",
    "\n",
    "client_id = \"UiSouTBQhNkPNy5PhXRu\"\n",
    "client_secret = \"7jXIdTIaNM\"\n",
    "\n",
    "encText = urllib.parse.quote(\"안녕 파파고! 이 문장 좀 번역해주세요.\")\n",
    "data = \"source=ko&target=en&text=\" + encText\n",
    "\n",
    "url = \"https://openapi.naver.com/v1/papago/n2mt\"\n",
    "request = urllib.request.Request(url)\n",
    "request.add_header(\"X-Naver-Client-Id\",client_id)\n",
    "request.add_header(\"X-Naver-Client-Secret\",client_secret)\n",
    "response = urllib.request.urlopen(request, data=data.encode(\"utf-8\"))\n",
    "rescode = response.getcode()\n",
    "\n",
    "if(rescode==200):\n",
    "    response_body = response.read()\n",
    "    print(response_body.decode('utf-8'))\n",
    "else:\n",
    "    print(\"Error Code:\" + rescode)"
   ]
  },
  {
   "cell_type": "markdown",
   "metadata": {},
   "source": [
    "<br>\n",
    "\n",
    "### 메모장 내용 번역\n",
    "\n",
    "- Original text : source.txt\n",
    "- Translated text : translate.txt"
   ]
  },
  {
   "cell_type": "code",
   "execution_count": 4,
   "metadata": {},
   "outputs": [
    {
     "name": "stdout",
     "output_type": "stream",
     "text": [
      "{'message': {'@service': 'naverservice.nmt.proxy',\n",
      "             '@type': 'response',\n",
      "             '@version': '1.0.0',\n",
      "             'result': {'srcLangType': 'ko',\n",
      "                        'tarLangType': 'en',\n",
      "                        'translatedText': 'the heyday of cheap, easy-to-pull '\n",
      "                                          'artificial muscle\\n'\n",
      "                                          '\\n'\n",
      "                                          'The robotic arm is bending its arms '\n",
      "                                          'as if it were doing muscle work. '\n",
      "                                          'The muscles used in the exercise '\n",
      "                                          'are artificial muscles made of '\n",
      "                                          'twisted-bellied fibers. There are '\n",
      "                                          'several ways to use air, materials '\n",
      "                                          'that respond to electromagnetic '\n",
      "                                          'fields, and shape memory alloys. '\n",
      "                                          'Scientists believe that the way '\n",
      "                                          'fibers are twisted is the most '\n",
      "                                          'advanced when it comes to strength '\n",
      "                                          'and flexibility. The international '\n",
      "                                          'journal Science also introduced the '\n",
      "                                          'results of three fiber artificial '\n",
      "                                          'muscle studies on Wednesday, '\n",
      "                                          'reflecting the situation.\\n'\n",
      "                                          '\\n'\n",
      "                                          'Science noted a study by Kim '\n",
      "                                          'Sun-jung, a Korean scientist and '\n",
      "                                          'professor of electrical and '\n",
      "                                          'biological engineering at Hanyang '\n",
      "                                          'University. Kim announced '\n",
      "                                          'artificial muscle that produces up '\n",
      "                                          'to 40 times more strength than a '\n",
      "                                          'human muscle. The artificial '\n",
      "                                          'muscle, co-developed with a team of '\n",
      "                                          'chemistry professors at the '\n",
      "                                          'University of Texas at Ray Borman, '\n",
      "                                          'was made by mixing carbon nanotube '\n",
      "                                          '(CNT) fibers with cheap acrylic, '\n",
      "                                          'silk and bamboo fibers sold on the '\n",
      "                                          'market as if they were collecting '\n",
      "                                          'noodles. On top of this, materials '\n",
      "                                          'that respond to external stimuli '\n",
      "                                          'such as temperature changes, '\n",
      "                                          'electromagnetic fields and '\n",
      "                                          'chemicals were overlaid to make '\n",
      "                                          'them look like a string of strings '\n",
      "                                          'and twisted again. These artificial '\n",
      "                                          'muscle fibers, when stimulated by '\n",
      "                                          'the outside, contract and increase '\n",
      "                                          'the outer surface of the cord. \\n'\n",
      "                                          '\\n'\n",
      "                                          'The artificial muscle developed by '\n",
      "                                          'the research team was able to '\n",
      "                                          'perform nine times higher than the '\n",
      "                                          'previously developed artificial '\n",
      "                                          'muscle even though it utilizes '\n",
      "                                          'cheap materials that are easily '\n",
      "                                          'obtained on the market. Depending '\n",
      "                                          'on the materials covered with the '\n",
      "                                          'straps, it can determine which '\n",
      "                                          'stimuli it will respond to, and '\n",
      "                                          'thus has a wide range of uses. When '\n",
      "                                          'polyurethane is used as a material, '\n",
      "                                          'artificial muscle that reacts '\n",
      "                                          'according to heat changes, and '\n",
      "                                          'artificial muscle that reacts to '\n",
      "                                          'electric stimulation when covered '\n",
      "                                          'with carbon nanotubes. \"We also '\n",
      "                                          'developed an artificial muscle that '\n",
      "                                          'works according to the '\n",
      "                                          'concentration of glucose by '\n",
      "                                          'developing hydrogel that reacts to '\n",
      "                                          'glucose,\" Professor Kim said. \"It '\n",
      "                                          'can be used as a supply device that '\n",
      "                                          'automatically releases drugs '\n",
      "                                          'depending on the concentration of '\n",
      "                                          'blood sugar in the body.\"\\n'\n",
      "                                          '\\n'\n",
      "                                          'Science also introduced research by '\n",
      "                                          'Professor Polyna Anikiba of '\n",
      "                                          'Massachusetts Institute of '\n",
      "                                          'Technology (MIT). The research team '\n",
      "                                          'made artificial muscles out of a '\n",
      "                                          'chunks of two kinds of polymers '\n",
      "                                          'that were sliced into thin strips '\n",
      "                                          'like noodles. In addition to the '\n",
      "                                          'tenfold increase in the number of '\n",
      "                                          'South Koreans, 40 degrees of heat '\n",
      "                                          'can cause two polymers to increase '\n",
      "                                          'in heat, which can cause them to '\n",
      "                                          'twist strongly and lift 650 times '\n",
      "                                          'their weight.\\n'\n",
      "                                          '\\n'\n",
      "                                          'Another team of researchers at the '\n",
      "                                          'Paul Pascal Institute in Chinkai '\n",
      "                                          'Yuan, France, which focuses on '\n",
      "                                          'Science, has developed artificial '\n",
      "                                          'muscle that has been twisted into a '\n",
      "                                          'polyvinyl alcohol (PVA) fiber by '\n",
      "                                          'mixing 5 percent of the graphene '\n",
      "                                          'pieces. A piece of graphene boosts '\n",
      "                                          'the elasticity and strength of the '\n",
      "                                          'artificial muscle and produces 50 '\n",
      "                                          'times the strength of the human '\n",
      "                                          'muscle.'}}}\n"
     ]
    }
   ],
   "source": [
    "import os\n",
    "import sys\n",
    "import urllib.request\n",
    "import json\n",
    "from pprint import pprint\n",
    "\n",
    "client_id = \"UiSouTBQhNkPNy5PhXRu\"\n",
    "client_secret = \"7jXIdTIaNM\"\n",
    "\n",
    "#번역할 메모장 불러오기\n",
    "with open('source.txt','r',encoding='utf-8') as f: # encoding : euc-kr / utf-8 / cp949\n",
    "    srcText = f.read()\n",
    "\n",
    "encText = urllib.parse.quote(srcText)\n",
    "data = \"source=ko&target=en&text=\" + encText\n",
    "\n",
    "url = \"https://openapi.naver.com/v1/papago/n2mt\"\n",
    "request = urllib.request.Request(url)\n",
    "request.add_header(\"X-Naver-Client-Id\",client_id)\n",
    "request.add_header(\"X-Naver-Client-Secret\",client_secret)\n",
    "response = urllib.request.urlopen(request, data=data.encode(\"utf-8\"))\n",
    "rescode = response.getcode()\n",
    "\n",
    "if(rescode==200):\n",
    "    response_body = response.read()\n",
    "    # print(response_body.decode('utf-8'))\n",
    "    res = json.loads(response_body.decode('utf-8'))\n",
    "    pprint(res)\n",
    "\n",
    "    #파일 생성\n",
    "    with open('translate.txt', 'w',encoding='utf8') as f:\n",
    "        f.write(res['message']['result']['translatedText'])\n",
    "    \n",
    "else:\n",
    "    print(\"Error Code:\" + rescode)"
   ]
  }
 ],
 "metadata": {
  "kernelspec": {
   "display_name": "Python 3",
   "language": "python",
   "name": "python3"
  },
  "language_info": {
   "codemirror_mode": {
    "name": "ipython",
    "version": 3
   },
   "file_extension": ".py",
   "mimetype": "text/x-python",
   "name": "python",
   "nbconvert_exporter": "python",
   "pygments_lexer": "ipython3",
   "version": "3.6.5"
  }
 },
 "nbformat": 4,
 "nbformat_minor": 2
}
