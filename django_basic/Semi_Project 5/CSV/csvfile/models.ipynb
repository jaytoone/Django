{
 "cells": [
  {
   "cell_type": "code",
   "execution_count": 9,
   "metadata": {
    "collapsed": true
   },
   "outputs": [
    {
     "name": "stdout",
     "output_type": "stream",
     "text": [
      "Package                Version  \n",
      "---------------------- ---------\n",
      "attrs                  19.3.0   \n",
      "backcall               0.1.0    \n",
      "beautifulsoup4         4.8.1    \n",
      "bleach                 3.1.0    \n",
      "bs4                    0.0.1    \n",
      "certifi                2019.9.11\n",
      "chardet                3.0.4    \n",
      "colorama               0.4.3    \n",
      "decorator              4.4.1    \n",
      "defusedxml             0.6.0    \n",
      "Django                 2.2.6    \n",
      "django-adaptors        0.2.5    \n",
      "django-extensions      2.2.8    \n",
      "entrypoints            0.3      \n",
      "google-images-download 2.8.0    \n",
      "idna                   2.8      \n",
      "importlib-metadata     1.5.0    \n",
      "ipykernel              5.1.4    \n",
      "ipython                7.12.0   \n",
      "ipython-genutils       0.2.0    \n",
      "ipywidgets             7.5.1    \n",
      "jedi                   0.16.0   \n",
      "Jinja2                 2.11.1   \n",
      "jsonschema             3.2.0    \n",
      "jupyter                1.0.0    \n",
      "jupyter-client         5.3.4    \n",
      "jupyter-console        6.1.0    \n",
      "jupyter-core           4.6.3    \n",
      "lxml                   4.4.1    \n",
      "MarkupSafe             1.1.1    \n",
      "mistune                0.8.4    \n",
      "nbconvert              5.6.1    \n",
      "nbformat               5.0.4    \n",
      "notebook               6.0.3    \n",
      "numpy                  1.17.4   \n",
      "opencv-python          4.1.1.26 \n",
      "pandocfilters          1.4.2    \n",
      "parso                  0.6.1    \n",
      "pickleshare            0.7.5    \n",
      "Pillow                 5.4.1    \n",
      "pip                    20.0.2   \n",
      "prometheus-client      0.7.1    \n",
      "prompt-toolkit         3.0.3    \n",
      "Pygments               2.5.2    \n",
      "pyrsistent             0.15.7   \n",
      "python-dateutil        2.8.1    \n",
      "pytz                   2019.3   \n",
      "pywin32                227      \n",
      "pywinpty               0.5.7    \n",
      "pyzmq                  18.1.1   \n",
      "qtconsole              4.6.0    \n",
      "requests               2.22.0   \n",
      "selenium               3.141.0  \n",
      "Send2Trash             1.5.0    \n",
      "setuptools             45.2.0   \n",
      "six                    1.14.0   \n",
      "soupsieve              1.9.5    \n",
      "sqlparse               0.3.0    \n",
      "terminado              0.8.3    \n",
      "testpath               0.4.4    \n",
      "tornado                6.0.3    \n",
      "traitlets              4.3.3    \n",
      "urllib3                1.25.7   \n",
      "wcwidth                0.1.8    \n",
      "webencodings           0.5.1    \n",
      "wheel                  0.34.2   \n",
      "widgetsnbextension     3.5.1    \n",
      "zipp                   3.0.0    \n"
     ]
    }
   ],
   "source": [
    "# !pip install django-adaptors\n",
    "# !pip list"
   ]
  },
  {
   "cell_type": "code",
   "execution_count": 13,
   "metadata": {
    "collapsed": true
   },
   "outputs": [
    {
     "ename": "SyntaxError",
     "evalue": "invalid syntax (model.py, line 269)",
     "output_type": "error",
     "traceback": [
      "Traceback \u001b[1;36m(most recent call last)\u001b[0m:\n",
      "  File \u001b[0;32m\"C:\\Users\\student\\J1\\Django\\django_env\\lib\\site-packages\\IPython\\core\\interactiveshell.py\"\u001b[0m, line \u001b[0;32m3331\u001b[0m, in \u001b[0;35mrun_code\u001b[0m\n    exec(code_obj, self.user_global_ns, self.user_ns)\n",
      "\u001b[1;36m  File \u001b[1;32m\"<ipython-input-13-2fec07217086>\"\u001b[1;36m, line \u001b[1;32m2\u001b[1;36m, in \u001b[1;35m<module>\u001b[1;36m\u001b[0m\n\u001b[1;33m    from adaptor.model import CsvModel\u001b[0m\n",
      "\u001b[1;36m  File \u001b[1;32m\"C:\\Users\\student\\J1\\Django\\django_env\\lib\\site-packages\\adaptor\\model.py\"\u001b[1;36m, line \u001b[1;32m269\u001b[0m\n\u001b[1;33m    except ValueError, e:\u001b[0m\n\u001b[1;37m                     ^\u001b[0m\n\u001b[1;31mSyntaxError\u001b[0m\u001b[1;31m:\u001b[0m invalid syntax\n"
     ]
    }
   ],
   "source": [
    "from django.db import models\n",
    "# from adaptor.model import CsvModel\n",
    "\n",
    "# Create your models here.\n",
    "# class load_csv(CsvModel):\n",
    "#     name = models.CharField(max_length=150)\n",
    "#     email = models.EmailField(blank=True)\n",
    "#     address = models.CharField(max_length=50)\n",
    "#     phone = models.CharField(max_length=150,unique=True)\n",
    "#     profile = models.TextField()\n",
    "\n",
    "#     class Meta:\n",
    "#         delimiter = ','\n"
   ]
  },
  {
   "cell_type": "code",
   "execution_count": 15,
   "metadata": {},
   "outputs": [
    {
     "name": "stdout",
     "output_type": "stream",
     "text": [
      "['name', 'email', 'address', 'phone', 'profile']\n",
      "['Sima', 'simathapa111@gmail.com', 'Nadipur', '+14151234567.', 'She is a developer, researcher and food-lover.']\n",
      "['Gita', 'geeta12@outlook.com', 'Pokhara', '(415) 123-4567', 'Geeta is a teacher, she loves to play and dance.']\n",
      "['Ram', 'ram123@gmail.com', 'Kathmandu', '17735356563', 'Ram delivers food.']\n"
     ]
    }
   ],
   "source": [
    "#     my_csv_list = mycsvmodel.import_data(data=open('test.csv'))\n",
    "#     first_line = my_csv_list[0]\n",
    "#     first_line.age\n",
    "import csv\n",
    "\n",
    "path= 'test.csv'\n",
    "with open(path) as f:\n",
    "    reader = csv.reader(f)\n",
    "    for row in reader:\n",
    "        print(row)\n"
   ]
  },
  {
   "cell_type": "code",
   "execution_count": null,
   "metadata": {},
   "outputs": [],
   "source": []
  }
 ],
 "metadata": {
  "kernelspec": {
   "display_name": "Django Shell-Plus",
   "language": "python",
   "name": "django_extensions"
  },
  "language_info": {
   "codemirror_mode": {
    "name": "ipython",
    "version": 3
   },
   "file_extension": ".py",
   "mimetype": "text/x-python",
   "name": "python",
   "nbconvert_exporter": "python",
   "pygments_lexer": "ipython3",
   "version": "3.6.5"
  }
 },
 "nbformat": 4,
 "nbformat_minor": 4
}
