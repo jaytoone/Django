{
 "cells": [
  {
   "cell_type": "code",
   "execution_count": null,
   "metadata": {},
   "outputs": [],
   "source": [
    "from django.db import models\n",
    "from adaptor.model import CsvModel\n",
    "\n",
    "# Create your models here.\n",
    "from phonenumber_field.modelfields import PhoneNumberField\n",
    "class Profile(models.Model):\n",
    "    name = models.CharField(max_length=150)\n",
    "    email = models.EmailField(blank=True)\n",
    "    address = models.CharField(max_length=50)\n",
    "    phone = models.CharField(max_length=150,unique=True)\n",
    "    profile = models.TextField()\n",
    "    def __str__(self):\n",
    "        return self.name\n",
    "\n",
    "\n",
    "class mycsvmodel(CsvModel):\n",
    "    name = models.CharField(max_length=150)\n",
    "    email = models.EmailField(blank=True)\n",
    "    address = models.CharField(max_length=50)\n",
    "    phone = models.CharField(max_length=150,unique=True)\n",
    "    profile = models.TextField()\n",
    "\n",
    "    class Meta:\n",
    "        delimiter = ','\n",
    "\n",
    "if __name__=='__main__':\n",
    "    my_csv_list = mycsvmodel.import_data(data=open('test.csv'))\n",
    "    first_line = my_csv_list[0]\n",
    "    first_line.age\n"
   ]
  }
 ],
 "metadata": {
  "kernelspec": {
   "display_name": "Django Shell-Plus",
   "language": "python",
   "name": "django_extensions"
  },
  "language_info": {
   "codemirror_mode": {
    "name": "ipython",
    "version": 3
   },
   "file_extension": ".py",
   "mimetype": "text/x-python",
   "name": "python",
   "nbconvert_exporter": "python",
   "pygments_lexer": "ipython3",
   "version": "3.6.5"
  }
 },
 "nbformat": 4,
 "nbformat_minor": 4
}
