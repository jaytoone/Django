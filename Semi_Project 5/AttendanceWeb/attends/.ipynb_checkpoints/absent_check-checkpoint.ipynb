{
 "cells": [
  {
   "cell_type": "code",
   "execution_count": null,
   "metadata": {},
   "outputs": [],
   "source": [
    "# !pip install pandas\n",
    "# !pip install xlrd\n",
    "\n",
    "# excel = pd.read_excel('이미지분석 A반 출석현황.xlsx', index_col=0)\n",
    "# excel.to_csv('이미지분석 A반 출석현황.csv')\n",
    "print(pd.read_csv('이미지분석 A반 출석현황.csv', index_col=0).iloc[0])"
   ]
  },
  {
   "cell_type": "code",
   "execution_count": null,
   "metadata": {
    "scrolled": true
   },
   "outputs": [],
   "source": [
    "import pandas as pd\n",
    "pd.set_option('display.max_columns', 1500)\n",
    "\n",
    "#               데이터 로딩              #\n",
    "absent_df = pd.read_csv('이미지분석 A반 출석현황.csv', index_col=0)\n",
    "# print(absent_df.iloc[0])\n",
    "# quit()\n",
    "\n",
    "#   누적 출석 시간 / 현재까지 정상 출석 시간 = 실시간 출석률\n",
    "#   현재까지 정상 출석 시간 = 1주차부터 해당 주차까지의 정상 출석 시간\n",
    "#   = 40시간 * 10주차 = 400시간\n",
    "#                   시간은 분 단위로 계산한다                  #\n",
    "\n",
    "\n",
    "def total_min(str_time):\n",
    "    hour = str_time.split(':')[0]\n",
    "    min = str_time.split(':')[1]\n",
    "    return int(hour) * 60 + int(min)\n",
    "\n",
    "\n",
    "column_lines = absent_df.iloc[:1]\n",
    "data_lines = absent_df.iloc[1:]\n",
    "# print(column_lines)\n",
    "# quit()\n",
    "\n",
    "\n",
    "name = input('이름을 입력하세요 : ')\n",
    "print()\n",
    "selected_line = data_lines[data_lines['이름'] == name]\n",
    "number = int(selected_line.index[0])\n",
    "# print(number)\n",
    "# quit()\n",
    "\n",
    "import re\n",
    "\n",
    "# week_number = column_lines[column_lines.columns[6]].iloc[0].split()[0]\n",
    "# week_number = int(re.findall('\\d+', week_number)[0])\n",
    "# 총 출석일 수\n",
    "# total_attendance = (len(selected_line.columns) - 6) * 8 * 60\n",
    "total_attendance = (50) * 8 * 60\n",
    "stacked_attendance = selected_line[selected_line.columns[-4]].values[0]\n",
    "realtime_attendance = total_min(stacked_attendance) / total_attendance\n",
    "print('### 실시간 출석률 : %.2f %% ###' % (realtime_attendance * 100))\n",
    "\n",
    "#   출결 석차 = 누적 출석률 내림차순 정렬\n",
    "#   누적 출석률 column 추출\n",
    "data_lines[data_lines.columns[-4]] = data_lines[data_lines.columns[-4]].apply(total_min)\n",
    "Rank_lines = data_lines.sort_values(by=[data_lines.columns[-4]], ascending=False).reset_index(drop=True)\n",
    "Rank = Rank_lines[Rank_lines['이름'] == name].index[0] + 1\n",
    "print('### %s명 중 %s등 ###' % (len(Rank_lines), Rank))\n",
    "\n",
    "#   퇴소까지 남은 결석 시간 = 184시간 - 총 결석 시간\n",
    "absent_time = selected_line[selected_line.columns[-1]].values[0]\n",
    "rest_time = (184 * 60 - total_min(absent_time)) / 60\n",
    "rest_day = rest_time / 8\n",
    "print('### 퇴소까지 %.2f일 (%.2f시간) 남았습니다. ###' % (rest_day, rest_time))\n",
    "print()\n",
    "\n",
    "#   일별 출석 시간, 특이사항 조회 (데이터 베이스에서 가져오기)\n",
    "print('### 일별 출석 시간 ###')\n",
    "# print(selected_line)\n",
    "print()\n",
    "\n",
    "#   일별 출석률\n",
    "\n",
    "\n",
    "#   특이사항\n",
    "print('### 특이사항 ###')\n",
    "print(selected_line[selected_line.columns[-2]].values)\n",
    "    \n",
    "#     except Exception as e:\n",
    "#         print('Error occured :', e)"
   ]
  },
  {
   "cell_type": "code",
   "execution_count": null,
   "metadata": {},
   "outputs": [],
   "source": []
  }
 ],
 "metadata": {
  "kernelspec": {
   "display_name": "Django Shell-Plus",
   "language": "python",
   "name": "django_extensions"
  },
  "language_info": {
   "codemirror_mode": {
    "name": "ipython",
    "version": 3
   },
   "file_extension": ".py",
   "mimetype": "text/x-python",
   "name": "python",
   "nbconvert_exporter": "python",
   "pygments_lexer": "ipython3",
   "version": "3.6.5"
  }
 },
 "nbformat": 4,
 "nbformat_minor": 4
}
